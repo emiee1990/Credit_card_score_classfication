{
 "cells": [
  {
   "cell_type": "code",
   "execution_count": 1,
   "id": "ae759ac3",
   "metadata": {},
   "outputs": [],
   "source": [
    "import numpy as np\n",
    "import pandas as pd\n",
    "from sklearn.pipeline import Pipeline\n",
    "from sklearn.compose import ColumnTransformer\n",
    "from sklearn.preprocessing import MinMaxScaler, OneHotEncoder\n",
    "from sklearn.impute import SimpleImputer\n",
    "from sklearn.linear_model import LogisticRegression"
   ]
  },
  {
   "cell_type": "code",
   "execution_count": 2,
   "id": "01971413",
   "metadata": {},
   "outputs": [],
   "source": [
    "train = pd.read_csv('train.csv')"
   ]
  },
  {
   "cell_type": "code",
   "execution_count": 3,
   "id": "eaf4c1b5",
   "metadata": {},
   "outputs": [
    {
     "data": {
      "text/plain": [
       "(100000, 28)"
      ]
     },
     "execution_count": 3,
     "metadata": {},
     "output_type": "execute_result"
    }
   ],
   "source": [
    "train.shape"
   ]
  },
  {
   "cell_type": "code",
   "execution_count": 4,
   "id": "f5a5ec5c",
   "metadata": {},
   "outputs": [
    {
     "data": {
      "text/html": [
       "<div>\n",
       "<style scoped>\n",
       "    .dataframe tbody tr th:only-of-type {\n",
       "        vertical-align: middle;\n",
       "    }\n",
       "\n",
       "    .dataframe tbody tr th {\n",
       "        vertical-align: top;\n",
       "    }\n",
       "\n",
       "    .dataframe thead th {\n",
       "        text-align: right;\n",
       "    }\n",
       "</style>\n",
       "<table border=\"1\" class=\"dataframe\">\n",
       "  <thead>\n",
       "    <tr style=\"text-align: right;\">\n",
       "      <th></th>\n",
       "      <th>ID</th>\n",
       "      <th>Customer_ID</th>\n",
       "      <th>Month</th>\n",
       "      <th>Name</th>\n",
       "      <th>Age</th>\n",
       "      <th>SSN</th>\n",
       "      <th>Occupation</th>\n",
       "      <th>Annual_Income</th>\n",
       "      <th>Monthly_Inhand_Salary</th>\n",
       "      <th>Num_Bank_Accounts</th>\n",
       "      <th>...</th>\n",
       "      <th>Credit_Mix</th>\n",
       "      <th>Outstanding_Debt</th>\n",
       "      <th>Credit_Utilization_Ratio</th>\n",
       "      <th>Credit_History_Age</th>\n",
       "      <th>Payment_of_Min_Amount</th>\n",
       "      <th>Total_EMI_per_month</th>\n",
       "      <th>Amount_invested_monthly</th>\n",
       "      <th>Payment_Behaviour</th>\n",
       "      <th>Monthly_Balance</th>\n",
       "      <th>Credit_Score</th>\n",
       "    </tr>\n",
       "  </thead>\n",
       "  <tbody>\n",
       "    <tr>\n",
       "      <th>0</th>\n",
       "      <td>5634</td>\n",
       "      <td>3392</td>\n",
       "      <td>1</td>\n",
       "      <td>Aaron Maashoh</td>\n",
       "      <td>23.0</td>\n",
       "      <td>821000265.0</td>\n",
       "      <td>Scientist</td>\n",
       "      <td>19114.12</td>\n",
       "      <td>1824.843333</td>\n",
       "      <td>3.0</td>\n",
       "      <td>...</td>\n",
       "      <td>Good</td>\n",
       "      <td>809.98</td>\n",
       "      <td>26.822620</td>\n",
       "      <td>265.0</td>\n",
       "      <td>No</td>\n",
       "      <td>49.574949</td>\n",
       "      <td>21.46538</td>\n",
       "      <td>High_spent_Small_value_payments</td>\n",
       "      <td>312.494089</td>\n",
       "      <td>Good</td>\n",
       "    </tr>\n",
       "    <tr>\n",
       "      <th>1</th>\n",
       "      <td>5635</td>\n",
       "      <td>3392</td>\n",
       "      <td>2</td>\n",
       "      <td>Aaron Maashoh</td>\n",
       "      <td>23.0</td>\n",
       "      <td>821000265.0</td>\n",
       "      <td>Scientist</td>\n",
       "      <td>19114.12</td>\n",
       "      <td>1824.843333</td>\n",
       "      <td>3.0</td>\n",
       "      <td>...</td>\n",
       "      <td>Good</td>\n",
       "      <td>809.98</td>\n",
       "      <td>31.944960</td>\n",
       "      <td>266.0</td>\n",
       "      <td>No</td>\n",
       "      <td>49.574949</td>\n",
       "      <td>21.46538</td>\n",
       "      <td>Low_spent_Large_value_payments</td>\n",
       "      <td>284.629162</td>\n",
       "      <td>Good</td>\n",
       "    </tr>\n",
       "    <tr>\n",
       "      <th>2</th>\n",
       "      <td>5636</td>\n",
       "      <td>3392</td>\n",
       "      <td>3</td>\n",
       "      <td>Aaron Maashoh</td>\n",
       "      <td>23.0</td>\n",
       "      <td>821000265.0</td>\n",
       "      <td>Scientist</td>\n",
       "      <td>19114.12</td>\n",
       "      <td>1824.843333</td>\n",
       "      <td>3.0</td>\n",
       "      <td>...</td>\n",
       "      <td>Good</td>\n",
       "      <td>809.98</td>\n",
       "      <td>28.609352</td>\n",
       "      <td>267.0</td>\n",
       "      <td>No</td>\n",
       "      <td>49.574949</td>\n",
       "      <td>21.46538</td>\n",
       "      <td>Low_spent_Medium_value_payments</td>\n",
       "      <td>331.209863</td>\n",
       "      <td>Good</td>\n",
       "    </tr>\n",
       "    <tr>\n",
       "      <th>3</th>\n",
       "      <td>5637</td>\n",
       "      <td>3392</td>\n",
       "      <td>4</td>\n",
       "      <td>Aaron Maashoh</td>\n",
       "      <td>23.0</td>\n",
       "      <td>821000265.0</td>\n",
       "      <td>Scientist</td>\n",
       "      <td>19114.12</td>\n",
       "      <td>1824.843333</td>\n",
       "      <td>3.0</td>\n",
       "      <td>...</td>\n",
       "      <td>Good</td>\n",
       "      <td>809.98</td>\n",
       "      <td>31.377862</td>\n",
       "      <td>268.0</td>\n",
       "      <td>No</td>\n",
       "      <td>49.574949</td>\n",
       "      <td>21.46538</td>\n",
       "      <td>Low_spent_Small_value_payments</td>\n",
       "      <td>223.451310</td>\n",
       "      <td>Good</td>\n",
       "    </tr>\n",
       "    <tr>\n",
       "      <th>4</th>\n",
       "      <td>5638</td>\n",
       "      <td>3392</td>\n",
       "      <td>5</td>\n",
       "      <td>Aaron Maashoh</td>\n",
       "      <td>23.0</td>\n",
       "      <td>821000265.0</td>\n",
       "      <td>Scientist</td>\n",
       "      <td>19114.12</td>\n",
       "      <td>1824.843333</td>\n",
       "      <td>3.0</td>\n",
       "      <td>...</td>\n",
       "      <td>Good</td>\n",
       "      <td>809.98</td>\n",
       "      <td>24.797347</td>\n",
       "      <td>269.0</td>\n",
       "      <td>No</td>\n",
       "      <td>49.574949</td>\n",
       "      <td>21.46538</td>\n",
       "      <td>High_spent_Medium_value_payments</td>\n",
       "      <td>341.489231</td>\n",
       "      <td>Good</td>\n",
       "    </tr>\n",
       "  </tbody>\n",
       "</table>\n",
       "<p>5 rows × 28 columns</p>\n",
       "</div>"
      ],
      "text/plain": [
       "     ID  Customer_ID  Month           Name   Age          SSN Occupation  \\\n",
       "0  5634         3392      1  Aaron Maashoh  23.0  821000265.0  Scientist   \n",
       "1  5635         3392      2  Aaron Maashoh  23.0  821000265.0  Scientist   \n",
       "2  5636         3392      3  Aaron Maashoh  23.0  821000265.0  Scientist   \n",
       "3  5637         3392      4  Aaron Maashoh  23.0  821000265.0  Scientist   \n",
       "4  5638         3392      5  Aaron Maashoh  23.0  821000265.0  Scientist   \n",
       "\n",
       "   Annual_Income  Monthly_Inhand_Salary  Num_Bank_Accounts  ...  Credit_Mix  \\\n",
       "0       19114.12            1824.843333                3.0  ...        Good   \n",
       "1       19114.12            1824.843333                3.0  ...        Good   \n",
       "2       19114.12            1824.843333                3.0  ...        Good   \n",
       "3       19114.12            1824.843333                3.0  ...        Good   \n",
       "4       19114.12            1824.843333                3.0  ...        Good   \n",
       "\n",
       "   Outstanding_Debt  Credit_Utilization_Ratio Credit_History_Age  \\\n",
       "0            809.98                 26.822620              265.0   \n",
       "1            809.98                 31.944960              266.0   \n",
       "2            809.98                 28.609352              267.0   \n",
       "3            809.98                 31.377862              268.0   \n",
       "4            809.98                 24.797347              269.0   \n",
       "\n",
       "   Payment_of_Min_Amount  Total_EMI_per_month  Amount_invested_monthly  \\\n",
       "0                     No            49.574949                 21.46538   \n",
       "1                     No            49.574949                 21.46538   \n",
       "2                     No            49.574949                 21.46538   \n",
       "3                     No            49.574949                 21.46538   \n",
       "4                     No            49.574949                 21.46538   \n",
       "\n",
       "                  Payment_Behaviour Monthly_Balance  Credit_Score  \n",
       "0   High_spent_Small_value_payments      312.494089          Good  \n",
       "1    Low_spent_Large_value_payments      284.629162          Good  \n",
       "2   Low_spent_Medium_value_payments      331.209863          Good  \n",
       "3    Low_spent_Small_value_payments      223.451310          Good  \n",
       "4  High_spent_Medium_value_payments      341.489231          Good  \n",
       "\n",
       "[5 rows x 28 columns]"
      ]
     },
     "execution_count": 4,
     "metadata": {},
     "output_type": "execute_result"
    }
   ],
   "source": [
    "train.head()"
   ]
  },
  {
   "cell_type": "code",
   "execution_count": 5,
   "id": "bd0bf457",
   "metadata": {},
   "outputs": [
    {
     "data": {
      "text/html": [
       "<div>\n",
       "<style scoped>\n",
       "    .dataframe tbody tr th:only-of-type {\n",
       "        vertical-align: middle;\n",
       "    }\n",
       "\n",
       "    .dataframe tbody tr th {\n",
       "        vertical-align: top;\n",
       "    }\n",
       "\n",
       "    .dataframe thead th {\n",
       "        text-align: right;\n",
       "    }\n",
       "</style>\n",
       "<table border=\"1\" class=\"dataframe\">\n",
       "  <thead>\n",
       "    <tr style=\"text-align: right;\">\n",
       "      <th></th>\n",
       "      <th>ID</th>\n",
       "      <th>Customer_ID</th>\n",
       "      <th>Month</th>\n",
       "      <th>Age</th>\n",
       "      <th>SSN</th>\n",
       "      <th>Annual_Income</th>\n",
       "      <th>Monthly_Inhand_Salary</th>\n",
       "      <th>Num_Bank_Accounts</th>\n",
       "      <th>Num_Credit_Card</th>\n",
       "      <th>Interest_Rate</th>\n",
       "      <th>...</th>\n",
       "      <th>Delay_from_due_date</th>\n",
       "      <th>Num_of_Delayed_Payment</th>\n",
       "      <th>Changed_Credit_Limit</th>\n",
       "      <th>Num_Credit_Inquiries</th>\n",
       "      <th>Outstanding_Debt</th>\n",
       "      <th>Credit_Utilization_Ratio</th>\n",
       "      <th>Credit_History_Age</th>\n",
       "      <th>Total_EMI_per_month</th>\n",
       "      <th>Amount_invested_monthly</th>\n",
       "      <th>Monthly_Balance</th>\n",
       "    </tr>\n",
       "  </thead>\n",
       "  <tbody>\n",
       "    <tr>\n",
       "      <th>count</th>\n",
       "      <td>100000.000000</td>\n",
       "      <td>100000.000000</td>\n",
       "      <td>100000.000000</td>\n",
       "      <td>100000.000000</td>\n",
       "      <td>1.000000e+05</td>\n",
       "      <td>100000.000000</td>\n",
       "      <td>100000.000000</td>\n",
       "      <td>100000.000000</td>\n",
       "      <td>100000.000000</td>\n",
       "      <td>100000.00000</td>\n",
       "      <td>...</td>\n",
       "      <td>100000.00000</td>\n",
       "      <td>100000.000000</td>\n",
       "      <td>100000.000000</td>\n",
       "      <td>100000.000000</td>\n",
       "      <td>100000.000000</td>\n",
       "      <td>100000.000000</td>\n",
       "      <td>100000.000000</td>\n",
       "      <td>100000.000000</td>\n",
       "      <td>100000.000000</td>\n",
       "      <td>100000.000000</td>\n",
       "    </tr>\n",
       "    <tr>\n",
       "      <th>mean</th>\n",
       "      <td>80631.500000</td>\n",
       "      <td>25982.666640</td>\n",
       "      <td>4.500000</td>\n",
       "      <td>33.316340</td>\n",
       "      <td>5.004617e+08</td>\n",
       "      <td>50505.123449</td>\n",
       "      <td>4197.270835</td>\n",
       "      <td>5.368820</td>\n",
       "      <td>5.533570</td>\n",
       "      <td>14.53208</td>\n",
       "      <td>...</td>\n",
       "      <td>21.08141</td>\n",
       "      <td>13.313120</td>\n",
       "      <td>10.470323</td>\n",
       "      <td>5.798250</td>\n",
       "      <td>1426.220376</td>\n",
       "      <td>32.285173</td>\n",
       "      <td>221.220460</td>\n",
       "      <td>107.699208</td>\n",
       "      <td>55.101315</td>\n",
       "      <td>392.697586</td>\n",
       "    </tr>\n",
       "    <tr>\n",
       "      <th>std</th>\n",
       "      <td>43301.486619</td>\n",
       "      <td>14340.543051</td>\n",
       "      <td>2.291299</td>\n",
       "      <td>10.764812</td>\n",
       "      <td>2.908267e+08</td>\n",
       "      <td>38299.422093</td>\n",
       "      <td>3186.432497</td>\n",
       "      <td>2.593314</td>\n",
       "      <td>2.067098</td>\n",
       "      <td>8.74133</td>\n",
       "      <td>...</td>\n",
       "      <td>14.80456</td>\n",
       "      <td>6.237166</td>\n",
       "      <td>6.609481</td>\n",
       "      <td>3.867826</td>\n",
       "      <td>1155.129026</td>\n",
       "      <td>5.116875</td>\n",
       "      <td>99.680716</td>\n",
       "      <td>132.267056</td>\n",
       "      <td>39.006932</td>\n",
       "      <td>201.652719</td>\n",
       "    </tr>\n",
       "    <tr>\n",
       "      <th>min</th>\n",
       "      <td>5634.000000</td>\n",
       "      <td>1006.000000</td>\n",
       "      <td>1.000000</td>\n",
       "      <td>14.000000</td>\n",
       "      <td>8.134900e+04</td>\n",
       "      <td>7005.930000</td>\n",
       "      <td>303.645417</td>\n",
       "      <td>0.000000</td>\n",
       "      <td>0.000000</td>\n",
       "      <td>1.00000</td>\n",
       "      <td>...</td>\n",
       "      <td>0.00000</td>\n",
       "      <td>0.000000</td>\n",
       "      <td>0.500000</td>\n",
       "      <td>0.000000</td>\n",
       "      <td>0.230000</td>\n",
       "      <td>20.000000</td>\n",
       "      <td>1.000000</td>\n",
       "      <td>0.000000</td>\n",
       "      <td>0.000000</td>\n",
       "      <td>0.007760</td>\n",
       "    </tr>\n",
       "    <tr>\n",
       "      <th>25%</th>\n",
       "      <td>43132.750000</td>\n",
       "      <td>13664.500000</td>\n",
       "      <td>2.750000</td>\n",
       "      <td>24.000000</td>\n",
       "      <td>2.451686e+08</td>\n",
       "      <td>19342.972500</td>\n",
       "      <td>1626.594167</td>\n",
       "      <td>3.000000</td>\n",
       "      <td>4.000000</td>\n",
       "      <td>7.00000</td>\n",
       "      <td>...</td>\n",
       "      <td>10.00000</td>\n",
       "      <td>9.000000</td>\n",
       "      <td>5.380000</td>\n",
       "      <td>3.000000</td>\n",
       "      <td>566.072500</td>\n",
       "      <td>28.052567</td>\n",
       "      <td>144.000000</td>\n",
       "      <td>29.268886</td>\n",
       "      <td>27.959111</td>\n",
       "      <td>267.615983</td>\n",
       "    </tr>\n",
       "    <tr>\n",
       "      <th>50%</th>\n",
       "      <td>80631.500000</td>\n",
       "      <td>25777.000000</td>\n",
       "      <td>4.500000</td>\n",
       "      <td>33.000000</td>\n",
       "      <td>5.006886e+08</td>\n",
       "      <td>36999.705000</td>\n",
       "      <td>3095.905000</td>\n",
       "      <td>5.000000</td>\n",
       "      <td>5.000000</td>\n",
       "      <td>13.00000</td>\n",
       "      <td>...</td>\n",
       "      <td>18.00000</td>\n",
       "      <td>14.000000</td>\n",
       "      <td>9.400000</td>\n",
       "      <td>5.000000</td>\n",
       "      <td>1166.155000</td>\n",
       "      <td>32.305784</td>\n",
       "      <td>219.000000</td>\n",
       "      <td>66.462304</td>\n",
       "      <td>45.156550</td>\n",
       "      <td>333.865366</td>\n",
       "    </tr>\n",
       "    <tr>\n",
       "      <th>75%</th>\n",
       "      <td>118130.250000</td>\n",
       "      <td>38385.000000</td>\n",
       "      <td>6.250000</td>\n",
       "      <td>42.000000</td>\n",
       "      <td>7.560027e+08</td>\n",
       "      <td>71683.470000</td>\n",
       "      <td>5957.715000</td>\n",
       "      <td>7.000000</td>\n",
       "      <td>7.000000</td>\n",
       "      <td>20.00000</td>\n",
       "      <td>...</td>\n",
       "      <td>28.00000</td>\n",
       "      <td>18.000000</td>\n",
       "      <td>14.850000</td>\n",
       "      <td>8.000000</td>\n",
       "      <td>1945.962500</td>\n",
       "      <td>36.496663</td>\n",
       "      <td>302.000000</td>\n",
       "      <td>147.392573</td>\n",
       "      <td>71.295797</td>\n",
       "      <td>463.215683</td>\n",
       "    </tr>\n",
       "    <tr>\n",
       "      <th>max</th>\n",
       "      <td>155629.000000</td>\n",
       "      <td>50999.000000</td>\n",
       "      <td>8.000000</td>\n",
       "      <td>56.000000</td>\n",
       "      <td>9.999934e+08</td>\n",
       "      <td>179987.280000</td>\n",
       "      <td>15204.633333</td>\n",
       "      <td>11.000000</td>\n",
       "      <td>11.000000</td>\n",
       "      <td>34.00000</td>\n",
       "      <td>...</td>\n",
       "      <td>62.00000</td>\n",
       "      <td>25.000000</td>\n",
       "      <td>29.980000</td>\n",
       "      <td>17.000000</td>\n",
       "      <td>4998.070000</td>\n",
       "      <td>50.000000</td>\n",
       "      <td>404.000000</td>\n",
       "      <td>1779.103254</td>\n",
       "      <td>434.191089</td>\n",
       "      <td>1183.930696</td>\n",
       "    </tr>\n",
       "  </tbody>\n",
       "</table>\n",
       "<p>8 rows × 21 columns</p>\n",
       "</div>"
      ],
      "text/plain": [
       "                  ID    Customer_ID          Month            Age  \\\n",
       "count  100000.000000  100000.000000  100000.000000  100000.000000   \n",
       "mean    80631.500000   25982.666640       4.500000      33.316340   \n",
       "std     43301.486619   14340.543051       2.291299      10.764812   \n",
       "min      5634.000000    1006.000000       1.000000      14.000000   \n",
       "25%     43132.750000   13664.500000       2.750000      24.000000   \n",
       "50%     80631.500000   25777.000000       4.500000      33.000000   \n",
       "75%    118130.250000   38385.000000       6.250000      42.000000   \n",
       "max    155629.000000   50999.000000       8.000000      56.000000   \n",
       "\n",
       "                SSN  Annual_Income  Monthly_Inhand_Salary  Num_Bank_Accounts  \\\n",
       "count  1.000000e+05  100000.000000          100000.000000      100000.000000   \n",
       "mean   5.004617e+08   50505.123449            4197.270835           5.368820   \n",
       "std    2.908267e+08   38299.422093            3186.432497           2.593314   \n",
       "min    8.134900e+04    7005.930000             303.645417           0.000000   \n",
       "25%    2.451686e+08   19342.972500            1626.594167           3.000000   \n",
       "50%    5.006886e+08   36999.705000            3095.905000           5.000000   \n",
       "75%    7.560027e+08   71683.470000            5957.715000           7.000000   \n",
       "max    9.999934e+08  179987.280000           15204.633333          11.000000   \n",
       "\n",
       "       Num_Credit_Card  Interest_Rate  ...  Delay_from_due_date  \\\n",
       "count    100000.000000   100000.00000  ...         100000.00000   \n",
       "mean          5.533570       14.53208  ...             21.08141   \n",
       "std           2.067098        8.74133  ...             14.80456   \n",
       "min           0.000000        1.00000  ...              0.00000   \n",
       "25%           4.000000        7.00000  ...             10.00000   \n",
       "50%           5.000000       13.00000  ...             18.00000   \n",
       "75%           7.000000       20.00000  ...             28.00000   \n",
       "max          11.000000       34.00000  ...             62.00000   \n",
       "\n",
       "       Num_of_Delayed_Payment  Changed_Credit_Limit  Num_Credit_Inquiries  \\\n",
       "count           100000.000000         100000.000000         100000.000000   \n",
       "mean                13.313120             10.470323              5.798250   \n",
       "std                  6.237166              6.609481              3.867826   \n",
       "min                  0.000000              0.500000              0.000000   \n",
       "25%                  9.000000              5.380000              3.000000   \n",
       "50%                 14.000000              9.400000              5.000000   \n",
       "75%                 18.000000             14.850000              8.000000   \n",
       "max                 25.000000             29.980000             17.000000   \n",
       "\n",
       "       Outstanding_Debt  Credit_Utilization_Ratio  Credit_History_Age  \\\n",
       "count     100000.000000             100000.000000       100000.000000   \n",
       "mean        1426.220376                 32.285173          221.220460   \n",
       "std         1155.129026                  5.116875           99.680716   \n",
       "min            0.230000                 20.000000            1.000000   \n",
       "25%          566.072500                 28.052567          144.000000   \n",
       "50%         1166.155000                 32.305784          219.000000   \n",
       "75%         1945.962500                 36.496663          302.000000   \n",
       "max         4998.070000                 50.000000          404.000000   \n",
       "\n",
       "       Total_EMI_per_month  Amount_invested_monthly  Monthly_Balance  \n",
       "count        100000.000000            100000.000000    100000.000000  \n",
       "mean            107.699208                55.101315       392.697586  \n",
       "std             132.267056                39.006932       201.652719  \n",
       "min               0.000000                 0.000000         0.007760  \n",
       "25%              29.268886                27.959111       267.615983  \n",
       "50%              66.462304                45.156550       333.865366  \n",
       "75%             147.392573                71.295797       463.215683  \n",
       "max            1779.103254               434.191089      1183.930696  \n",
       "\n",
       "[8 rows x 21 columns]"
      ]
     },
     "execution_count": 5,
     "metadata": {},
     "output_type": "execute_result"
    }
   ],
   "source": [
    "train.describe()"
   ]
  },
  {
   "cell_type": "code",
   "execution_count": 6,
   "id": "18cfc2a6",
   "metadata": {},
   "outputs": [
    {
     "name": "stdout",
     "output_type": "stream",
     "text": [
      "<class 'pandas.core.frame.DataFrame'>\n",
      "RangeIndex: 100000 entries, 0 to 99999\n",
      "Data columns (total 28 columns):\n",
      " #   Column                    Non-Null Count   Dtype  \n",
      "---  ------                    --------------   -----  \n",
      " 0   ID                        100000 non-null  int64  \n",
      " 1   Customer_ID               100000 non-null  int64  \n",
      " 2   Month                     100000 non-null  int64  \n",
      " 3   Name                      100000 non-null  object \n",
      " 4   Age                       100000 non-null  float64\n",
      " 5   SSN                       100000 non-null  float64\n",
      " 6   Occupation                100000 non-null  object \n",
      " 7   Annual_Income             100000 non-null  float64\n",
      " 8   Monthly_Inhand_Salary     100000 non-null  float64\n",
      " 9   Num_Bank_Accounts         100000 non-null  float64\n",
      " 10  Num_Credit_Card           100000 non-null  float64\n",
      " 11  Interest_Rate             100000 non-null  float64\n",
      " 12  Num_of_Loan               100000 non-null  float64\n",
      " 13  Type_of_Loan              100000 non-null  object \n",
      " 14  Delay_from_due_date       100000 non-null  float64\n",
      " 15  Num_of_Delayed_Payment    100000 non-null  float64\n",
      " 16  Changed_Credit_Limit      100000 non-null  float64\n",
      " 17  Num_Credit_Inquiries      100000 non-null  float64\n",
      " 18  Credit_Mix                100000 non-null  object \n",
      " 19  Outstanding_Debt          100000 non-null  float64\n",
      " 20  Credit_Utilization_Ratio  100000 non-null  float64\n",
      " 21  Credit_History_Age        100000 non-null  float64\n",
      " 22  Payment_of_Min_Amount     100000 non-null  object \n",
      " 23  Total_EMI_per_month       100000 non-null  float64\n",
      " 24  Amount_invested_monthly   100000 non-null  float64\n",
      " 25  Payment_Behaviour         100000 non-null  object \n",
      " 26  Monthly_Balance           100000 non-null  float64\n",
      " 27  Credit_Score              100000 non-null  object \n",
      "dtypes: float64(18), int64(3), object(7)\n",
      "memory usage: 21.4+ MB\n"
     ]
    }
   ],
   "source": [
    "train.info()"
   ]
  },
  {
   "cell_type": "code",
   "execution_count": 7,
   "id": "3fccb452",
   "metadata": {},
   "outputs": [],
   "source": [
    "X = train.drop('Credit_Score',axis=1)\n",
    "y = train['Credit_Score']"
   ]
  },
  {
   "cell_type": "code",
   "execution_count": 8,
   "id": "706bbbc1",
   "metadata": {},
   "outputs": [
    {
     "data": {
      "text/plain": [
       "(100000,)"
      ]
     },
     "execution_count": 8,
     "metadata": {},
     "output_type": "execute_result"
    }
   ],
   "source": [
    "y.shape"
   ]
  },
  {
   "cell_type": "code",
   "execution_count": 9,
   "id": "74ff2e77",
   "metadata": {},
   "outputs": [],
   "source": [
    "from sklearn.model_selection import train_test_split"
   ]
  },
  {
   "cell_type": "code",
   "execution_count": 10,
   "id": "2b3888e0",
   "metadata": {},
   "outputs": [],
   "source": [
    "X_train, X_val, y_train, y_val = train_test_split(X,y,test_size=0.2,random_state=13)"
   ]
  },
  {
   "cell_type": "code",
   "execution_count": 11,
   "id": "aad13a24",
   "metadata": {},
   "outputs": [
    {
     "data": {
      "text/plain": [
       "((80000, 27), (20000, 27), (80000,), (20000,))"
      ]
     },
     "execution_count": 11,
     "metadata": {},
     "output_type": "execute_result"
    }
   ],
   "source": [
    "X_train.shape, X_val.shape, y_train.shape, y_val.shape"
   ]
  },
  {
   "cell_type": "code",
   "execution_count": 12,
   "id": "45c84d27",
   "metadata": {},
   "outputs": [
    {
     "data": {
      "text/plain": [
       "['ID',\n",
       " 'Customer_ID',\n",
       " 'Month',\n",
       " 'Age',\n",
       " 'SSN',\n",
       " 'Annual_Income',\n",
       " 'Monthly_Inhand_Salary',\n",
       " 'Num_Bank_Accounts',\n",
       " 'Num_Credit_Card',\n",
       " 'Interest_Rate',\n",
       " 'Num_of_Loan',\n",
       " 'Delay_from_due_date',\n",
       " 'Num_of_Delayed_Payment',\n",
       " 'Changed_Credit_Limit',\n",
       " 'Num_Credit_Inquiries',\n",
       " 'Outstanding_Debt',\n",
       " 'Credit_Utilization_Ratio',\n",
       " 'Credit_History_Age',\n",
       " 'Total_EMI_per_month',\n",
       " 'Amount_invested_monthly',\n",
       " 'Monthly_Balance']"
      ]
     },
     "execution_count": 12,
     "metadata": {},
     "output_type": "execute_result"
    }
   ],
   "source": [
    "numeric_features = list(train.select_dtypes(exclude='object').columns)\n",
    "numeric_features"
   ]
  },
  {
   "cell_type": "code",
   "execution_count": 13,
   "id": "5f90a74e",
   "metadata": {},
   "outputs": [
    {
     "data": {
      "text/plain": [
       "['Age',\n",
       " 'Annual_Income',\n",
       " 'Monthly_Inhand_Salary',\n",
       " 'Num_Bank_Accounts',\n",
       " 'Num_Credit_Card',\n",
       " 'Interest_Rate',\n",
       " 'Num_of_Loan',\n",
       " 'Delay_from_due_date',\n",
       " 'Num_of_Delayed_Payment',\n",
       " 'Changed_Credit_Limit',\n",
       " 'Num_Credit_Inquiries',\n",
       " 'Outstanding_Debt',\n",
       " 'Credit_History_Age',\n",
       " 'Total_EMI_per_month',\n",
       " 'Amount_invested_monthly',\n",
       " 'Monthly_Balance']"
      ]
     },
     "execution_count": 13,
     "metadata": {},
     "output_type": "execute_result"
    }
   ],
   "source": [
    "numeric_features.remove('ID')\n",
    "numeric_features.remove('Customer_ID')\n",
    "numeric_features.remove('Month')\n",
    "numeric_features.remove('SSN')\n",
    "numeric_features.remove('Credit_Utilization_Ratio')\n",
    "numeric_features"
   ]
  },
  {
   "cell_type": "code",
   "execution_count": 14,
   "id": "6a75f46e",
   "metadata": {},
   "outputs": [
    {
     "data": {
      "text/plain": [
       "['Name',\n",
       " 'Occupation',\n",
       " 'Type_of_Loan',\n",
       " 'Credit_Mix',\n",
       " 'Payment_of_Min_Amount',\n",
       " 'Payment_Behaviour',\n",
       " 'Credit_Score']"
      ]
     },
     "execution_count": 14,
     "metadata": {},
     "output_type": "execute_result"
    }
   ],
   "source": [
    "cat_features = list(train.select_dtypes(include='object').columns)\n",
    "cat_features"
   ]
  },
  {
   "cell_type": "code",
   "execution_count": 15,
   "id": "6c65edc2",
   "metadata": {},
   "outputs": [
    {
     "data": {
      "text/plain": [
       "['Type_of_Loan', 'Credit_Mix', 'Payment_of_Min_Amount']"
      ]
     },
     "execution_count": 15,
     "metadata": {},
     "output_type": "execute_result"
    }
   ],
   "source": [
    "cat_features.remove('Name')\n",
    "cat_features.remove('Occupation')\n",
    "cat_features.remove('Payment_Behaviour')\n",
    "cat_features.remove('Credit_Score')\n",
    "cat_features"
   ]
  },
  {
   "cell_type": "code",
   "execution_count": 16,
   "id": "ad3954c0",
   "metadata": {},
   "outputs": [],
   "source": [
    "num_transformer = Pipeline([(\"imputer_n\",SimpleImputer(strategy='median')),\n",
    "                            ('scaler', MinMaxScaler())\n",
    "                           ])\n",
    "cat_transformer = Pipeline([(\"imputer_c\",SimpleImputer(strategy='most_frequent')),\n",
    "                            ('encoder', OneHotEncoder())\n",
    "                           ])"
   ]
  },
  {
   "cell_type": "code",
   "execution_count": 17,
   "id": "bbf6001e",
   "metadata": {},
   "outputs": [],
   "source": [
    "preprocessor = ColumnTransformer([('num_pipe', num_transformer, numeric_features),\n",
    "                                  ('cat_pipe', cat_transformer, cat_features)])"
   ]
  },
  {
   "cell_type": "markdown",
   "id": "2848a31b",
   "metadata": {},
   "source": [
    "# Using Logistic Regression"
   ]
  },
  {
   "cell_type": "code",
   "execution_count": 18,
   "id": "2c6284b6",
   "metadata": {},
   "outputs": [],
   "source": [
    "final_pipe = Pipeline([('preprocess_pipe', preprocessor),\n",
    "                      ('model', LogisticRegression(solver='lbfgs', max_iter=1000))])"
   ]
  },
  {
   "cell_type": "code",
   "execution_count": 19,
   "id": "1bd25c0e",
   "metadata": {},
   "outputs": [
    {
     "data": {
      "text/plain": [
       "Pipeline(steps=[('preprocess_pipe',\n",
       "                 ColumnTransformer(transformers=[('num_pipe',\n",
       "                                                  Pipeline(steps=[('imputer_n',\n",
       "                                                                   SimpleImputer(strategy='median')),\n",
       "                                                                  ('scaler',\n",
       "                                                                   MinMaxScaler())]),\n",
       "                                                  ['Age', 'Annual_Income',\n",
       "                                                   'Monthly_Inhand_Salary',\n",
       "                                                   'Num_Bank_Accounts',\n",
       "                                                   'Num_Credit_Card',\n",
       "                                                   'Interest_Rate',\n",
       "                                                   'Num_of_Loan',\n",
       "                                                   'Delay_from_due_date',\n",
       "                                                   'Num_of_Delayed_Payment',\n",
       "                                                   'Changed_Credit_Limit',\n",
       "                                                   'Num_Credit_Inquiries',\n",
       "                                                   'Outstanding_Debt',\n",
       "                                                   'Credit_History_Age',\n",
       "                                                   'Total_EMI_per_month',\n",
       "                                                   'Amount_invested_monthly',\n",
       "                                                   'Monthly_Balance']),\n",
       "                                                 ('cat_pipe',\n",
       "                                                  Pipeline(steps=[('imputer_c',\n",
       "                                                                   SimpleImputer(strategy='most_frequent')),\n",
       "                                                                  ('encoder',\n",
       "                                                                   OneHotEncoder())]),\n",
       "                                                  ['Type_of_Loan', 'Credit_Mix',\n",
       "                                                   'Payment_of_Min_Amount'])])),\n",
       "                ('model', LogisticRegression(max_iter=1000))])"
      ]
     },
     "execution_count": 19,
     "metadata": {},
     "output_type": "execute_result"
    }
   ],
   "source": [
    "final_pipe.fit(X_train, y_train)"
   ]
  },
  {
   "cell_type": "code",
   "execution_count": 20,
   "id": "4c37b846",
   "metadata": {},
   "outputs": [
    {
     "data": {
      "text/plain": [
       "0.770925"
      ]
     },
     "execution_count": 20,
     "metadata": {},
     "output_type": "execute_result"
    }
   ],
   "source": [
    "final_pipe.score(X_train, y_train)"
   ]
  },
  {
   "cell_type": "code",
   "execution_count": 21,
   "id": "228894aa",
   "metadata": {},
   "outputs": [
    {
     "data": {
      "text/plain": [
       "array(['Standard', 'Standard', 'Good', ..., 'Standard', 'Standard',\n",
       "       'Standard'], dtype=object)"
      ]
     },
     "execution_count": 21,
     "metadata": {},
     "output_type": "execute_result"
    }
   ],
   "source": [
    "final_pipe.predict(X_val)"
   ]
  },
  {
   "cell_type": "code",
   "execution_count": 22,
   "id": "21b524c8",
   "metadata": {},
   "outputs": [
    {
     "data": {
      "text/plain": [
       "0.7436"
      ]
     },
     "execution_count": 22,
     "metadata": {},
     "output_type": "execute_result"
    }
   ],
   "source": [
    "final_pipe.score(X_val, y_val)"
   ]
  },
  {
   "cell_type": "markdown",
   "id": "31942a93",
   "metadata": {},
   "source": [
    "# Using SVM"
   ]
  },
  {
   "cell_type": "code",
   "execution_count": 23,
   "id": "05731e1e",
   "metadata": {},
   "outputs": [],
   "source": [
    "from sklearn import svm"
   ]
  },
  {
   "cell_type": "code",
   "execution_count": 24,
   "id": "f81d00cc",
   "metadata": {},
   "outputs": [],
   "source": [
    "final_pipe = Pipeline([('preprocess_pipe', preprocessor),\n",
    "                      ('model', svm.SVC())])"
   ]
  },
  {
   "cell_type": "code",
   "execution_count": 25,
   "id": "d285bc78",
   "metadata": {},
   "outputs": [
    {
     "data": {
      "text/plain": [
       "Pipeline(steps=[('preprocess_pipe',\n",
       "                 ColumnTransformer(transformers=[('num_pipe',\n",
       "                                                  Pipeline(steps=[('imputer_n',\n",
       "                                                                   SimpleImputer(strategy='median')),\n",
       "                                                                  ('scaler',\n",
       "                                                                   MinMaxScaler())]),\n",
       "                                                  ['Age', 'Annual_Income',\n",
       "                                                   'Monthly_Inhand_Salary',\n",
       "                                                   'Num_Bank_Accounts',\n",
       "                                                   'Num_Credit_Card',\n",
       "                                                   'Interest_Rate',\n",
       "                                                   'Num_of_Loan',\n",
       "                                                   'Delay_from_due_date',\n",
       "                                                   'Num_of_Delayed_Payment',\n",
       "                                                   'Changed_Credit_Limit',\n",
       "                                                   'Num_Credit_Inquiries',\n",
       "                                                   'Outstanding_Debt',\n",
       "                                                   'Credit_History_Age',\n",
       "                                                   'Total_EMI_per_month',\n",
       "                                                   'Amount_invested_monthly',\n",
       "                                                   'Monthly_Balance']),\n",
       "                                                 ('cat_pipe',\n",
       "                                                  Pipeline(steps=[('imputer_c',\n",
       "                                                                   SimpleImputer(strategy='most_frequent')),\n",
       "                                                                  ('encoder',\n",
       "                                                                   OneHotEncoder())]),\n",
       "                                                  ['Type_of_Loan', 'Credit_Mix',\n",
       "                                                   'Payment_of_Min_Amount'])])),\n",
       "                ('model', SVC())])"
      ]
     },
     "execution_count": 25,
     "metadata": {},
     "output_type": "execute_result"
    }
   ],
   "source": [
    "final_pipe.fit(X_train, y_train)"
   ]
  },
  {
   "cell_type": "code",
   "execution_count": 55,
   "id": "268eb45b",
   "metadata": {},
   "outputs": [
    {
     "data": {
      "text/plain": [
       "0.7844"
      ]
     },
     "execution_count": 55,
     "metadata": {},
     "output_type": "execute_result"
    }
   ],
   "source": [
    "final_pipe.score(X_train, y_train)"
   ]
  },
  {
   "cell_type": "code",
   "execution_count": 56,
   "id": "1bb25cfb",
   "metadata": {},
   "outputs": [
    {
     "data": {
      "text/plain": [
       "array(['Standard', 'Standard', 'Standard', ..., 'Standard', 'Standard',\n",
       "       'Standard'], dtype=object)"
      ]
     },
     "execution_count": 56,
     "metadata": {},
     "output_type": "execute_result"
    }
   ],
   "source": [
    "final_pipe.predict(X_val)"
   ]
  },
  {
   "cell_type": "code",
   "execution_count": 57,
   "id": "eadfc95f",
   "metadata": {},
   "outputs": [
    {
     "data": {
      "text/plain": [
       "0.765"
      ]
     },
     "execution_count": 57,
     "metadata": {},
     "output_type": "execute_result"
    }
   ],
   "source": [
    "final_pipe.score(X_val, y_val)"
   ]
  },
  {
   "cell_type": "markdown",
   "id": "682a9ced",
   "metadata": {},
   "source": [
    "# Using Random Forest Classifier"
   ]
  },
  {
   "cell_type": "code",
   "execution_count": 58,
   "id": "ff111c46",
   "metadata": {},
   "outputs": [],
   "source": [
    "from sklearn.ensemble import RandomForestClassifier"
   ]
  },
  {
   "cell_type": "code",
   "execution_count": 59,
   "id": "ec7df05a",
   "metadata": {},
   "outputs": [],
   "source": [
    "final_pipe = Pipeline([('preprocess_pipe', preprocessor),\n",
    "                      ('model', RandomForestClassifier())])"
   ]
  },
  {
   "cell_type": "code",
   "execution_count": 61,
   "id": "97293aa8",
   "metadata": {},
   "outputs": [
    {
     "data": {
      "text/plain": [
       "Pipeline(steps=[('preprocess_pipe',\n",
       "                 ColumnTransformer(transformers=[('num_pipe',\n",
       "                                                  Pipeline(steps=[('imputer_n',\n",
       "                                                                   SimpleImputer(strategy='median')),\n",
       "                                                                  ('scaler',\n",
       "                                                                   MinMaxScaler())]),\n",
       "                                                  ['Age', 'Annual_Income',\n",
       "                                                   'Monthly_Inhand_Salary',\n",
       "                                                   'Num_Bank_Accounts',\n",
       "                                                   'Num_Credit_Card',\n",
       "                                                   'Interest_Rate',\n",
       "                                                   'Num_of_Loan',\n",
       "                                                   'Delay_from_due_date',\n",
       "                                                   'Num_of_Delayed_Payment',\n",
       "                                                   'Changed_Credit_Limit',\n",
       "                                                   'Num_Credit_Inquiries',\n",
       "                                                   'Outstanding_Debt',\n",
       "                                                   'Credit_History_Age',\n",
       "                                                   'Total_EMI_per_month',\n",
       "                                                   'Amount_invested_monthly',\n",
       "                                                   'Monthly_Balance']),\n",
       "                                                 ('cat_pipe',\n",
       "                                                  Pipeline(steps=[('imputer_c',\n",
       "                                                                   SimpleImputer(strategy='most_frequent')),\n",
       "                                                                  ('encoder',\n",
       "                                                                   OneHotEncoder())]),\n",
       "                                                  ['Type_of_Loan', 'Credit_Mix',\n",
       "                                                   'Payment_of_Min_Amount'])])),\n",
       "                ('model', RandomForestClassifier())])"
      ]
     },
     "execution_count": 61,
     "metadata": {},
     "output_type": "execute_result"
    }
   ],
   "source": [
    "final_pipe.fit(X_train, y_train)"
   ]
  },
  {
   "cell_type": "code",
   "execution_count": 62,
   "id": "1334f6fe",
   "metadata": {},
   "outputs": [
    {
     "data": {
      "text/plain": [
       "0.9999875"
      ]
     },
     "execution_count": 62,
     "metadata": {},
     "output_type": "execute_result"
    }
   ],
   "source": [
    "final_pipe.score(X_train, y_train)"
   ]
  },
  {
   "cell_type": "code",
   "execution_count": 63,
   "id": "13b056f1",
   "metadata": {},
   "outputs": [
    {
     "data": {
      "text/plain": [
       "array(['Standard', 'Poor', 'Standard', ..., 'Standard', 'Standard',\n",
       "       'Standard'], dtype=object)"
      ]
     },
     "execution_count": 63,
     "metadata": {},
     "output_type": "execute_result"
    }
   ],
   "source": [
    "final_pipe.predict(X_val)"
   ]
  },
  {
   "cell_type": "code",
   "execution_count": 64,
   "id": "e1375431",
   "metadata": {},
   "outputs": [
    {
     "data": {
      "text/plain": [
       "0.8123"
      ]
     },
     "execution_count": 64,
     "metadata": {},
     "output_type": "execute_result"
    }
   ],
   "source": [
    "final_pipe.score(X_val, y_val)"
   ]
  }
 ],
 "metadata": {
  "kernelspec": {
   "display_name": "Python 3 (ipykernel)",
   "language": "python",
   "name": "python3"
  },
  "language_info": {
   "codemirror_mode": {
    "name": "ipython",
    "version": 3
   },
   "file_extension": ".py",
   "mimetype": "text/x-python",
   "name": "python",
   "nbconvert_exporter": "python",
   "pygments_lexer": "ipython3",
   "version": "3.9.12"
  }
 },
 "nbformat": 4,
 "nbformat_minor": 5
}
